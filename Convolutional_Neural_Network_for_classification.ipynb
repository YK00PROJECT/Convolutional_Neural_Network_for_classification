{
  "nbformat": 4,
  "nbformat_minor": 0,
  "metadata": {
    "colab": {
      "provenance": []
    },
    "kernelspec": {
      "name": "python3",
      "display_name": "Python 3"
    },
    "language_info": {
      "name": "python"
    },
    "accelerator": "TPU"
  },
  "cells": [
    {
      "cell_type": "markdown",
      "source": [
        "# Importing Libraries\n"
      ],
      "metadata": {
        "id": "RT2LP1Kezn9q"
      }
    },
    {
      "cell_type": "code",
      "execution_count": null,
      "metadata": {
        "id": "aJynfgKdzaAX"
      },
      "outputs": [],
      "source": [
        "import tensorflow as tf\n",
        "from keras.preprocessing.image import ImageDataGenerator\n",
        "import os\n",
        "from shutil import copyfile\n",
        "from sklearn.model_selection import train_test_split\n",
        "import numpy as np"
      ]
    },
    {
      "cell_type": "code",
      "source": [
        "tf.__version__"
      ],
      "metadata": {
        "colab": {
          "base_uri": "https://localhost:8080/",
          "height": 35
        },
        "id": "BclALLME1cZY",
        "outputId": "63deafc8-8f49-453b-9c11-23388d13a2bc"
      },
      "execution_count": null,
      "outputs": [
        {
          "output_type": "execute_result",
          "data": {
            "text/plain": [
              "'2.12.0'"
            ],
            "application/vnd.google.colaboratory.intrinsic+json": {
              "type": "string"
            }
          },
          "metadata": {},
          "execution_count": 2
        }
      ]
    },
    {
      "cell_type": "code",
      "source": [
        "from google.colab import drive\n",
        "drive.mount('/content/gdrive',force_remount = True)"
      ],
      "metadata": {
        "colab": {
          "base_uri": "https://localhost:8080/"
        },
        "id": "OBQ98OWssLnk",
        "outputId": "5beb61fd-ec1e-473b-e483-512be49ee2fd"
      },
      "execution_count": null,
      "outputs": [
        {
          "output_type": "stream",
          "name": "stdout",
          "text": [
            "Mounted at /content/gdrive\n"
          ]
        }
      ]
    },
    {
      "cell_type": "code",
      "source": [
        "# Get the list of image files\n",
        "data_directory = '/content/gdrive/My Drive/raw-img'\n",
        "image_files = [f for f in os.listdir(data_directory) if os.path.isfile(os.path.join(data_directory, f))]"
      ],
      "metadata": {
        "id": "Pw2fiBgf1HPs"
      },
      "execution_count": null,
      "outputs": []
    },
    {
      "cell_type": "code",
      "source": [
        "for item in os.listdir(data_directory):\n",
        "    print(item)\n"
      ],
      "metadata": {
        "colab": {
          "base_uri": "https://localhost:8080/"
        },
        "id": "YkOqoFzA190F",
        "outputId": "0007b910-6552-4e7d-ce1c-5b41c253ed4a"
      },
      "execution_count": null,
      "outputs": [
        {
          "output_type": "stream",
          "name": "stdout",
          "text": [
            "scoiattolo\n",
            "cane\n",
            "ragno\n",
            "mucca\n",
            "gatto\n",
            "gallina\n",
            "elefante\n",
            "farfalla\n",
            "cavallo\n",
            "pecora\n",
            "train\n",
            "val\n",
            "test\n"
          ]
        }
      ]
    },
    {
      "cell_type": "code",
      "source": [
        "data_directory = '/content/gdrive/My Drive/raw-img'\n",
        "animal_folders = [\"scoiattolo\", \"cane\", \"ragno\", \"mucca\", \"gatto\", \"gallina\", \"elefante\", \"farfalla\", \"cavallo\", \"pecora\"]"
      ],
      "metadata": {
        "id": "VfTrIXk14bm7"
      },
      "execution_count": null,
      "outputs": []
    },
    {
      "cell_type": "code",
      "source": [
        "# New directories for train, validation, and test sets\n",
        "train_dir = os.path.join(data_directory, 'train')\n",
        "val_dir = os.path.join(data_directory, 'val')\n",
        "test_dir = os.path.join(data_directory, 'test')\n"
      ],
      "metadata": {
        "id": "52pH4f7-3Blo"
      },
      "execution_count": null,
      "outputs": []
    },
    {
      "cell_type": "code",
      "source": [
        "os.makedirs(train_dir, exist_ok=True)\n",
        "os.makedirs(val_dir, exist_ok=True)\n",
        "os.makedirs(test_dir, exist_ok=True)\n"
      ],
      "metadata": {
        "id": "nAeuXuP73EKh"
      },
      "execution_count": null,
      "outputs": []
    },
    {
      "cell_type": "code",
      "source": [
        "for animal_folder in animal_folders:\n",
        "    path = os.path.join(data_directory, animal_folder)\n",
        "    if os.path.exists(path):\n",
        "        print(f\"{animal_folder} exists with {len(os.listdir(path))} files.\")\n",
        "    else:\n",
        "        print(f\"{animal_folder} does not exist.\")\n",
        "for animal_folder in animal_folders:\n",
        "    # Explicitly create sub-directories in train, val, and test directories for this animal\n",
        "    train_animal_dir = os.path.join(train_dir, animal_folder)\n",
        "    val_animal_dir = os.path.join(val_dir, animal_folder)\n",
        "    test_animal_dir = os.path.join(test_dir, animal_folder)\n",
        "\n",
        "        # Check the number of files copied\n",
        "    print(f\"Number of files in {train_animal_dir}: {len(os.listdir(train_animal_dir))}\")\n",
        "    print(f\"Number of files in {val_animal_dir}: {len(os.listdir(val_animal_dir))}\")\n",
        "    print(f\"Number of files in {test_animal_dir}: {len(os.listdir(test_animal_dir))}\")\n",
        "\n",
        "\n",
        "\n",
        "print(os.listdir(train_dir))\n",
        "print(os.listdir(val_dir))\n",
        "print(os.listdir(test_dir))\n",
        "\n"
      ],
      "metadata": {
        "colab": {
          "base_uri": "https://localhost:8080/"
        },
        "id": "VuqFCdxq3Imq",
        "outputId": "0f0fdff5-aee9-4704-8876-db6d65a1c72c"
      },
      "execution_count": null,
      "outputs": [
        {
          "output_type": "stream",
          "name": "stdout",
          "text": [
            "scoiattolo exists with 1862 files.\n",
            "cane exists with 4509 files.\n",
            "ragno exists with 4821 files.\n",
            "mucca exists with 1866 files.\n",
            "gatto exists with 1657 files.\n",
            "gallina exists with 3091 files.\n",
            "elefante exists with 1446 files.\n",
            "farfalla exists with 2112 files.\n",
            "cavallo exists with 2623 files.\n",
            "pecora exists with 1820 files.\n",
            "Number of files in /content/gdrive/My Drive/raw-img/train/scoiattolo: 0\n",
            "Number of files in /content/gdrive/My Drive/raw-img/val/scoiattolo: 0\n",
            "Number of files in /content/gdrive/My Drive/raw-img/test/scoiattolo: 0\n",
            "Number of files in /content/gdrive/My Drive/raw-img/train/cane: 0\n",
            "Number of files in /content/gdrive/My Drive/raw-img/val/cane: 0\n",
            "Number of files in /content/gdrive/My Drive/raw-img/test/cane: 0\n",
            "Number of files in /content/gdrive/My Drive/raw-img/train/ragno: 0\n",
            "Number of files in /content/gdrive/My Drive/raw-img/val/ragno: 0\n",
            "Number of files in /content/gdrive/My Drive/raw-img/test/ragno: 0\n",
            "Number of files in /content/gdrive/My Drive/raw-img/train/mucca: 0\n",
            "Number of files in /content/gdrive/My Drive/raw-img/val/mucca: 0\n",
            "Number of files in /content/gdrive/My Drive/raw-img/test/mucca: 0\n",
            "Number of files in /content/gdrive/My Drive/raw-img/train/gatto: 0\n",
            "Number of files in /content/gdrive/My Drive/raw-img/val/gatto: 0\n",
            "Number of files in /content/gdrive/My Drive/raw-img/test/gatto: 0\n",
            "Number of files in /content/gdrive/My Drive/raw-img/train/gallina: 0\n",
            "Number of files in /content/gdrive/My Drive/raw-img/val/gallina: 0\n",
            "Number of files in /content/gdrive/My Drive/raw-img/test/gallina: 0\n",
            "Number of files in /content/gdrive/My Drive/raw-img/train/elefante: 0\n",
            "Number of files in /content/gdrive/My Drive/raw-img/val/elefante: 0\n",
            "Number of files in /content/gdrive/My Drive/raw-img/test/elefante: 0\n",
            "Number of files in /content/gdrive/My Drive/raw-img/train/farfalla: 0\n",
            "Number of files in /content/gdrive/My Drive/raw-img/val/farfalla: 0\n",
            "Number of files in /content/gdrive/My Drive/raw-img/test/farfalla: 0\n",
            "Number of files in /content/gdrive/My Drive/raw-img/train/cavallo: 0\n",
            "Number of files in /content/gdrive/My Drive/raw-img/val/cavallo: 0\n",
            "Number of files in /content/gdrive/My Drive/raw-img/test/cavallo: 0\n",
            "Number of files in /content/gdrive/My Drive/raw-img/train/pecora: 1274\n",
            "Number of files in /content/gdrive/My Drive/raw-img/val/pecora: 273\n",
            "Number of files in /content/gdrive/My Drive/raw-img/test/pecora: 273\n",
            "['pecora', 'scoiattolo', 'cane', 'ragno', 'mucca', 'gatto', 'gallina', 'elefante', 'farfalla', 'cavallo']\n",
            "['pecora', 'scoiattolo', 'cane', 'ragno', 'mucca', 'gatto', 'gallina', 'elefante', 'farfalla', 'cavallo']\n",
            "['pecora', 'scoiattolo', 'cane', 'ragno', 'mucca', 'gatto', 'gallina', 'elefante', 'farfalla', 'cavallo']\n"
          ]
        }
      ]
    },
    {
      "cell_type": "code",
      "source": [
        "# Perform stratified split for this animal's images\n",
        "train_files, temp_files = train_test_split(animal_folders, test_size=0.3, random_state=42)\n",
        "val_files, test_files = train_test_split(temp_files, test_size=0.5, random_state=42)"
      ],
      "metadata": {
        "id": "kz-wei2u3Iuh"
      },
      "execution_count": null,
      "outputs": []
    },
    {
      "cell_type": "code",
      "source": [
        "# Create sub-directories in train, val, and test directories for this animal\n",
        "train_animal_dir = os.path.join(train_dir, animal_folder)\n",
        "val_animal_dir = os.path.join(val_dir, animal_folder)\n",
        "test_animal_dir = os.path.join(test_dir, animal_folder)"
      ],
      "metadata": {
        "id": "Ji5jIDSB2L7X"
      },
      "execution_count": null,
      "outputs": []
    },
    {
      "cell_type": "code",
      "source": [
        "os.makedirs(train_animal_dir, exist_ok=True)\n",
        "os.makedirs(val_animal_dir, exist_ok=True)\n",
        "os.makedirs(test_animal_dir, exist_ok=True)"
      ],
      "metadata": {
        "id": "wZbbKzwb2MPB"
      },
      "execution_count": null,
      "outputs": []
    },
    {
      "cell_type": "code",
      "source": [
        "# Extensions of image files (you can add more if needed)\n",
        "image_extensions = ['.jpg', '.jpeg', '.png', '.bmp']\n",
        "\n",
        "# Get list of all image files for this animal\n",
        "animal_image_files = [f for f in os.listdir(os.path.join(data_directory, animal_folder))\n",
        "                      if os.path.isfile(os.path.join(data_directory, animal_folder, f))\n",
        "                      and any(f.lower().endswith(ext) for ext in image_extensions)]\n"
      ],
      "metadata": {
        "id": "oahCqajQkWEv"
      },
      "execution_count": null,
      "outputs": []
    },
    {
      "cell_type": "code",
      "source": [
        "print(os.listdir(train_dir))\n",
        "print(os.listdir(val_dir))\n",
        "print(os.listdir(test_dir))\n"
      ],
      "metadata": {
        "colab": {
          "base_uri": "https://localhost:8080/"
        },
        "id": "nUsBQE-0RafX",
        "outputId": "13670b07-9936-42af-ff34-7e349a1426f3"
      },
      "execution_count": null,
      "outputs": [
        {
          "output_type": "stream",
          "name": "stdout",
          "text": [
            "['pecora', 'scoiattolo', 'cane', 'ragno', 'mucca', 'gatto', 'gallina', 'elefante', 'farfalla', 'cavallo']\n",
            "['pecora', 'scoiattolo', 'cane', 'ragno', 'mucca', 'gatto', 'gallina', 'elefante', 'farfalla', 'cavallo']\n",
            "['pecora', 'scoiattolo', 'cane', 'ragno', 'mucca', 'gatto', 'gallina', 'elefante', 'farfalla', 'cavallo']\n"
          ]
        }
      ]
    },
    {
      "cell_type": "markdown",
      "source": [
        "# Data Preprocessing"
      ],
      "metadata": {
        "id": "5ibLI1Pz1iuR"
      }
    },
    {
      "cell_type": "markdown",
      "source": [
        "preprocessing the training test (To avoid overfitting)\n",
        "rescale is the featurecsaling and the class mode is binary but for more than two classes, one can use categorical"
      ],
      "metadata": {
        "id": "6AyWW6kw1sRf"
      }
    },
    {
      "cell_type": "code",
      "source": [
        "train_dir = '/content/gdrive/My Drive/raw-img/train'\n",
        "val_dir = '/content/gdrive/My Drive/raw-img/val'\n",
        "test_dir = '/content/gdrive/My Drive/raw-img/test'\n"
      ],
      "metadata": {
        "id": "FDoQeWmEFTgX"
      },
      "execution_count": null,
      "outputs": []
    },
    {
      "cell_type": "code",
      "source": [
        "from keras.preprocessing.image import ImageDataGenerator\n",
        "\n",
        "train_datagen = ImageDataGenerator(\n",
        "    rescale=1./255,\n",
        "    shear_range=0.2,\n",
        "    zoom_range=0.2,\n",
        "    rotation_range=20,\n",
        "    width_shift_range=0.2,\n",
        "    height_shift_range=0.2,\n",
        "    horizontal_flip=True,\n",
        "    vertical_flip=True,\n",
        "    brightness_range=[0.5, 1.5],\n",
        "    fill_mode='nearest'\n",
        ")\n",
        "\n",
        "\n",
        "training_set = train_datagen.flow_from_directory(\n",
        "    train_dir,\n",
        "    target_size=(64, 64),\n",
        "    batch_size=128,\n",
        "    class_mode='categorical'  # Changed to 'categorical' because you have more than 2 classes\n",
        ")\n"
      ],
      "metadata": {
        "colab": {
          "base_uri": "https://localhost:8080/"
        },
        "id": "SXs9CHOa1g9P",
        "outputId": "5de942ed-331e-47a0-d6df-0da5e6e81b9c"
      },
      "execution_count": null,
      "outputs": [
        {
          "output_type": "stream",
          "name": "stdout",
          "text": [
            "Found 1274 images belonging to 10 classes.\n"
          ]
        }
      ]
    },
    {
      "cell_type": "markdown",
      "source": [
        "Preprocessing Validation Set"
      ],
      "metadata": {
        "id": "e5eFyfKn79C8"
      }
    },
    {
      "cell_type": "code",
      "source": [
        "val_datagen = ImageDataGenerator(rescale=1./255)\n",
        "\n",
        "validation_set = val_datagen.flow_from_directory(\n",
        "    val_dir,\n",
        "    target_size=(64, 64),\n",
        "    batch_size=128,\n",
        "    class_mode='categorical'  # Changed to 'categorical'\n",
        ")"
      ],
      "metadata": {
        "colab": {
          "base_uri": "https://localhost:8080/"
        },
        "id": "liu4Fw3F520l",
        "outputId": "a1483079-bbd9-4531-99bf-5b0a0296fc2e"
      },
      "execution_count": null,
      "outputs": [
        {
          "output_type": "stream",
          "name": "stdout",
          "text": [
            "Found 273 images belonging to 10 classes.\n"
          ]
        }
      ]
    },
    {
      "cell_type": "markdown",
      "source": [
        "Preprocessing Test Set"
      ],
      "metadata": {
        "id": "6-G7AR3nFlE9"
      }
    },
    {
      "cell_type": "code",
      "source": [
        "test_datagen = ImageDataGenerator(rescale=1./255)\n",
        "\n",
        "test_set = test_datagen.flow_from_directory(\n",
        "    test_dir,\n",
        "    target_size=(64, 64),\n",
        "    batch_size=128,\n",
        "    class_mode='categorical'  # Changed to 'categorical'\n",
        ")"
      ],
      "metadata": {
        "colab": {
          "base_uri": "https://localhost:8080/"
        },
        "id": "UbdS60LRFhWh",
        "outputId": "d6448f92-6475-450d-c027-82928efaa8c2"
      },
      "execution_count": null,
      "outputs": [
        {
          "output_type": "stream",
          "name": "stdout",
          "text": [
            "Found 273 images belonging to 10 classes.\n"
          ]
        }
      ]
    },
    {
      "cell_type": "markdown",
      "source": [
        "# Building the CNN"
      ],
      "metadata": {
        "id": "vLO0hYEAAr1k"
      }
    },
    {
      "cell_type": "code",
      "source": [
        "cnn = tf.keras.models.Sequential()"
      ],
      "metadata": {
        "id": "E3IydiVB_zgc"
      },
      "execution_count": null,
      "outputs": []
    },
    {
      "cell_type": "code",
      "source": [
        "\n",
        "# First Convolutional Layer\n",
        "cnn.add(tf.keras.layers.Conv2D(filters=64, kernel_size=3, activation='relu', input_shape=(64, 64, 3)))\n",
        "cnn.add(tf.keras.layers.BatchNormalization())\n",
        "cnn.add(tf.keras.layers.MaxPool2D(pool_size=2, strides=2))\n"
      ],
      "metadata": {
        "id": "EIQ-XTZbA_Jq"
      },
      "execution_count": null,
      "outputs": []
    },
    {
      "cell_type": "code",
      "source": [
        "# Second Convolutional Layer\n",
        "cnn.add(tf.keras.layers.Conv2D(filters=64, kernel_size=3, activation='relu'))\n",
        "cnn.add(tf.keras.layers.BatchNormalization())\n",
        "cnn.add(tf.keras.layers.MaxPool2D(pool_size=2, strides=2))\n"
      ],
      "metadata": {
        "id": "6HQiz-QaHRUD"
      },
      "execution_count": null,
      "outputs": []
    },
    {
      "cell_type": "code",
      "source": [
        "# Third Convolutional Layer\n",
        "cnn.add(tf.keras.layers.Conv2D(filters=128, kernel_size=3, activation='relu'))\n",
        "cnn.add(tf.keras.layers.BatchNormalization())\n",
        "cnn.add(tf.keras.layers.MaxPool2D(pool_size=2, strides=2))"
      ],
      "metadata": {
        "id": "LJF0tSXgDo_Z"
      },
      "execution_count": null,
      "outputs": []
    },
    {
      "cell_type": "code",
      "source": [
        "# Fourth Convolutional Layer\n",
        "cnn.add(tf.keras.layers.Conv2D(filters=256, kernel_size=3, activation='relu'))\n",
        "cnn.add(tf.keras.layers.BatchNormalization())\n",
        "cnn.add(tf.keras.layers.MaxPool2D(pool_size=2, strides=2))\n",
        "cnn.add(tf.keras.layers.Dropout(0.5))\n",
        "\n"
      ],
      "metadata": {
        "id": "zg9kZRG8HYy_"
      },
      "execution_count": null,
      "outputs": []
    },
    {
      "cell_type": "code",
      "source": [
        "# Flattening\n",
        "cnn.add(tf.keras.layers.Flatten())"
      ],
      "metadata": {
        "id": "IsfP9qFwEFGN"
      },
      "execution_count": null,
      "outputs": []
    },
    {
      "cell_type": "code",
      "source": [
        "\n",
        "# Fully Connected Layer\n",
        "cnn.add(tf.keras.layers.Dense(units=512, activation='relu'))\n",
        "cnn.add(tf.keras.layers.BatchNormalization())\n",
        "cnn.add(tf.keras.layers.Dropout(0.5))"
      ],
      "metadata": {
        "id": "1BZsIkU9JG0E"
      },
      "execution_count": null,
      "outputs": []
    },
    {
      "cell_type": "code",
      "source": [
        "\n",
        "# Output Layer\n",
        "cnn.add(tf.keras.layers.Dense(units=10, activation='softmax'))"
      ],
      "metadata": {
        "id": "qSg-kAmpJLCN"
      },
      "execution_count": null,
      "outputs": []
    },
    {
      "cell_type": "markdown",
      "source": [
        "# Compiling CNN"
      ],
      "metadata": {
        "id": "Mjhnko-8FFz8"
      }
    },
    {
      "cell_type": "code",
      "source": [
        "optimizer = tf.keras.optimizers.Adam(learning_rate=0.001)\n",
        "cnn.compile(optimizer=optimizer, loss='categorical_crossentropy', metrics=['accuracy'])\n"
      ],
      "metadata": {
        "id": "gQIINNg9E6mb"
      },
      "execution_count": null,
      "outputs": []
    },
    {
      "cell_type": "code",
      "source": [
        "from tensorflow.keras.callbacks import EarlyStopping\n",
        "\n",
        "early_stop = EarlyStopping(monitor='val_loss', patience=5, verbose=1, restore_best_weights=True)\n",
        "\n",
        "history = cnn.fit(\n",
        "    x=training_set,\n",
        "    validation_data=validation_set,\n",
        "    epochs=25,\n",
        "    steps_per_epoch=len(training_set),\n",
        "    validation_steps=len(validation_set),\n",
        "    callbacks=[early_stop]\n",
        ")\n",
        "\n"
      ],
      "metadata": {
        "id": "Ut56ITg3FzRF",
        "colab": {
          "base_uri": "https://localhost:8080/"
        },
        "outputId": "58fab3fc-50d8-414c-b2e8-5f0e6e4cf77d"
      },
      "execution_count": null,
      "outputs": [
        {
          "output_type": "stream",
          "name": "stdout",
          "text": [
            "Epoch 1/25\n",
            "10/10 [==============================] - 99s 10s/step - loss: 3.4898 - accuracy: 0.1224 - val_loss: 1.8985 - val_accuracy: 1.0000\n",
            "Epoch 2/25\n",
            "10/10 [==============================] - 32s 3s/step - loss: 2.9980 - accuracy: 0.1601 - val_loss: 1.6391 - val_accuracy: 1.0000\n",
            "Epoch 3/25\n",
            "10/10 [==============================] - 36s 4s/step - loss: 2.5624 - accuracy: 0.2316 - val_loss: 1.2746 - val_accuracy: 1.0000\n",
            "Epoch 4/25\n",
            "10/10 [==============================] - 35s 4s/step - loss: 2.2295 - accuracy: 0.3289 - val_loss: 1.1153 - val_accuracy: 1.0000\n",
            "Epoch 5/25\n",
            "10/10 [==============================] - 36s 4s/step - loss: 1.8149 - accuracy: 0.4443 - val_loss: 0.9277 - val_accuracy: 1.0000\n",
            "Epoch 6/25\n",
            "10/10 [==============================] - 36s 3s/step - loss: 1.5010 - accuracy: 0.5432 - val_loss: 0.9622 - val_accuracy: 1.0000\n",
            "Epoch 7/25\n",
            "10/10 [==============================] - 42s 4s/step - loss: 1.2137 - accuracy: 0.6719 - val_loss: 0.7807 - val_accuracy: 1.0000\n",
            "Epoch 8/25\n",
            "10/10 [==============================] - 35s 3s/step - loss: 0.9860 - accuracy: 0.7614 - val_loss: 0.3824 - val_accuracy: 1.0000\n",
            "Epoch 9/25\n",
            "10/10 [==============================] - 36s 4s/step - loss: 0.7574 - accuracy: 0.8367 - val_loss: 0.1136 - val_accuracy: 1.0000\n",
            "Epoch 10/25\n",
            "10/10 [==============================] - 34s 3s/step - loss: 0.5863 - accuracy: 0.8846 - val_loss: 0.0668 - val_accuracy: 1.0000\n",
            "Epoch 11/25\n",
            "10/10 [==============================] - 35s 4s/step - loss: 0.4381 - accuracy: 0.9262 - val_loss: 0.0798 - val_accuracy: 1.0000\n",
            "Epoch 12/25\n",
            "10/10 [==============================] - 36s 4s/step - loss: 0.3249 - accuracy: 0.9553 - val_loss: 0.0198 - val_accuracy: 1.0000\n",
            "Epoch 13/25\n",
            "10/10 [==============================] - 35s 3s/step - loss: 0.2721 - accuracy: 0.9608 - val_loss: 0.0415 - val_accuracy: 1.0000\n",
            "Epoch 14/25\n",
            "10/10 [==============================] - 35s 4s/step - loss: 0.2215 - accuracy: 0.9710 - val_loss: 0.0037 - val_accuracy: 1.0000\n",
            "Epoch 15/25\n",
            "10/10 [==============================] - 35s 3s/step - loss: 0.1505 - accuracy: 0.9851 - val_loss: 0.0071 - val_accuracy: 1.0000\n",
            "Epoch 16/25\n",
            "10/10 [==============================] - 35s 4s/step - loss: 0.1347 - accuracy: 0.9882 - val_loss: 7.9963e-04 - val_accuracy: 1.0000\n",
            "Epoch 17/25\n",
            "10/10 [==============================] - 36s 4s/step - loss: 0.1360 - accuracy: 0.9819 - val_loss: 0.0019 - val_accuracy: 1.0000\n",
            "Epoch 18/25\n",
            "10/10 [==============================] - 35s 3s/step - loss: 0.1052 - accuracy: 0.9882 - val_loss: 0.0014 - val_accuracy: 1.0000\n",
            "Epoch 19/25\n",
            "10/10 [==============================] - 34s 3s/step - loss: 0.1046 - accuracy: 0.9890 - val_loss: 0.0012 - val_accuracy: 1.0000\n",
            "Epoch 20/25\n",
            "10/10 [==============================] - 35s 4s/step - loss: 0.0680 - accuracy: 0.9937 - val_loss: 4.9513e-04 - val_accuracy: 1.0000\n",
            "Epoch 21/25\n",
            "10/10 [==============================] - 35s 4s/step - loss: 0.0610 - accuracy: 0.9953 - val_loss: 0.0011 - val_accuracy: 1.0000\n",
            "Epoch 22/25\n",
            "10/10 [==============================] - 36s 4s/step - loss: 0.0609 - accuracy: 0.9953 - val_loss: 7.1629e-04 - val_accuracy: 1.0000\n",
            "Epoch 23/25\n",
            "10/10 [==============================] - 41s 4s/step - loss: 0.0659 - accuracy: 0.9937 - val_loss: 4.7815e-04 - val_accuracy: 1.0000\n",
            "Epoch 24/25\n",
            "10/10 [==============================] - 34s 3s/step - loss: 0.0428 - accuracy: 0.9976 - val_loss: 3.3620e-04 - val_accuracy: 1.0000\n",
            "Epoch 25/25\n",
            "10/10 [==============================] - 36s 3s/step - loss: 0.0460 - accuracy: 0.9953 - val_loss: 8.7160e-05 - val_accuracy: 1.0000\n"
          ]
        }
      ]
    },
    {
      "cell_type": "markdown",
      "source": [
        "# Prediction"
      ],
      "metadata": {
        "id": "2ZWEhLuqGmPg"
      }
    },
    {
      "cell_type": "code",
      "source": [
        "# Evaluating the CNN on the test set\n",
        "results = cnn.evaluate(test_set, steps=len(test_set))\n",
        "\n",
        "test_loss = results[0]\n",
        "test_accuracy = results[1]\n",
        "\n",
        "# Printing the test results\n",
        "print(f\"Test Loss: {test_loss:.4f}\")\n",
        "print(f\"Test Accuracy: {test_accuracy:.4f}\")\n",
        "\n"
      ],
      "metadata": {
        "id": "CedcgtbB8pNv",
        "colab": {
          "base_uri": "https://localhost:8080/"
        },
        "outputId": "1827b185-9741-4e24-ab73-062e79163381"
      },
      "execution_count": null,
      "outputs": [
        {
          "output_type": "stream",
          "name": "stdout",
          "text": [
            "3/3 [==============================] - 21s 10s/step - loss: 8.6521e-05 - accuracy: 1.0000\n",
            "Test Loss: 0.0001\n",
            "Test Accuracy: 1.0000\n"
          ]
        }
      ]
    },
    {
      "cell_type": "code",
      "source": [
        "predictions = cnn.predict(test_set, steps=len(test_set))\n",
        "predicted_labels = np.argmax(predictions, axis=1)\n"
      ],
      "metadata": {
        "colab": {
          "base_uri": "https://localhost:8080/"
        },
        "id": "cuzWvMY6Ks6J",
        "outputId": "461e85e1-b117-4dbe-d308-d438964b64b3"
      },
      "execution_count": null,
      "outputs": [
        {
          "output_type": "stream",
          "name": "stdout",
          "text": [
            "3/3 [==============================] - 2s 298ms/step\n"
          ]
        }
      ]
    },
    {
      "cell_type": "code",
      "source": [
        "from tensorflow.keras.preprocessing import image\n",
        "\n",
        "# Specify the path to your test image\n",
        "img_path = '/content/gdrive/My Drive/raw-img/test/pecora/e835b90e2bfc013ed1584d05fb1d4e9fe777ead218ac104497f5c978a6ebb3bf_640.jpg'\n",
        "\n",
        "# Load and preprocess the image\n",
        "test_image = image.load_img(img_path, target_size=(64,64,3)) # Change this if grayscale\n",
        "test_image = image.img_to_array(test_image)\n",
        "test_image = np.expand_dims(test_image, axis=0)\n",
        "test_image = test_image/255.0 # Assuming you normalized training images in the range [0,1]\n",
        "\n",
        "# Make the prediction\n",
        "result = cnn.predict(test_image)\n",
        "\n",
        "# Determine the predicted class (if you have more than two classes)\n",
        "predicted_class = np.argmax(result, axis=-1)\n",
        "class_labels = list(training_set.class_indices.keys())\n",
        "print('Prediction:', class_labels[predicted_class[0]])\n",
        "\n",
        "\n",
        "\n"
      ],
      "metadata": {
        "colab": {
          "base_uri": "https://localhost:8080/"
        },
        "id": "QUDMAvtcLNzj",
        "outputId": "fce68ff7-cc51-409b-c481-a23b8995a48e"
      },
      "execution_count": null,
      "outputs": [
        {
          "output_type": "stream",
          "name": "stdout",
          "text": [
            "1/1 [==============================] - 0s 234ms/step\n",
            "Prediction: pecora\n"
          ]
        }
      ]
    },
    {
      "cell_type": "code",
      "source": [],
      "metadata": {
        "id": "afqcWplSO2UP"
      },
      "execution_count": null,
      "outputs": []
    }
  ]
}